{
 "cells": [
  {
   "cell_type": "code",
   "execution_count": null,
   "metadata": {
    "colab": {
     "base_uri": "https://localhost:8080/",
     "height": 85
    },
    "id": "I_w2NF0q8dvj",
    "outputId": "e8e272db-7a47-414c-e10c-047976579d12"
   },
   "outputs": [
    {
     "name": "stdout",
     "output_type": "stream",
     "text": [
      "Collecting squarify\n",
      "  Downloading https://files.pythonhosted.org/packages/0b/2b/2e77c35326efec19819cd1d729540d4d235e6c2a3f37658288a363a67da5/squarify-0.4.3-py3-none-any.whl\n",
      "Installing collected packages: squarify\n",
      "Successfully installed squarify-0.4.3\n"
     ]
    }
   ],
   "source": [
    "pip install squarify"
   ]
  },
  {
   "cell_type": "code",
   "execution_count": null,
   "metadata": {
    "colab": {
     "base_uri": "https://localhost:8080/",
     "height": 88
    },
    "id": "SDKcLwTkfLxE",
    "outputId": "63ddcbdc-0588-4464-c202-08e7d47fb722"
   },
   "outputs": [
    {
     "name": "stderr",
     "output_type": "stream",
     "text": [
      "/usr/local/lib/python3.6/dist-packages/statsmodels/tools/_testing.py:19: FutureWarning: pandas.util.testing is deprecated. Use the functions in the public API at pandas.testing instead.\n",
      "  import pandas.util.testing as tm\n",
      "UsageError: unrecognized arguments: #used in jupyter notebook for interactive visualizations within notebook\n"
     ]
    }
   ],
   "source": [
    "import numpy as np                      #used for scientific computation\n",
    "import pandas as pd                     #used for data mugging and preprocessing\n",
    "import matplotlib.pyplot as plt         #data visualization library\n",
    "from pandas import DataFrame as show    # dataframe is the optimised structure used here to clean and analyse data\n",
    "import seaborn as sns                   # stastical visualization library\n",
    "import squarify                         #used to make square area plots\n",
    "%matplotlib inline                      #used in jupyter notebook for interactive visualizations within notebook"
   ]
  },
  {
   "cell_type": "markdown",
   "metadata": {
    "id": "hu2xSGV5122f"
   },
   "source": [
    "DATA FORMATTING"
   ]
  },
  {
   "cell_type": "code",
   "execution_count": null,
   "metadata": {
    "id": "SZdIYjQBgLwa"
   },
   "outputs": [],
   "source": [
    "df = pd.read_csv(\"/content/drive/My Drive/Colab Notebooks/startup_funding.csv\")"
   ]
  },
  {
   "cell_type": "code",
   "execution_count": null,
   "metadata": {
    "colab": {
     "base_uri": "https://localhost:8080/",
     "height": 289
    },
    "id": "ZhqdiqU-gR8V",
    "outputId": "a22ddf9b-4cfa-476c-8c32-dcb4bb3e9e32"
   },
   "outputs": [
    {
     "data": {
      "text/html": [
       "<div>\n",
       "<style scoped>\n",
       "    .dataframe tbody tr th:only-of-type {\n",
       "        vertical-align: middle;\n",
       "    }\n",
       "\n",
       "    .dataframe tbody tr th {\n",
       "        vertical-align: top;\n",
       "    }\n",
       "\n",
       "    .dataframe thead th {\n",
       "        text-align: right;\n",
       "    }\n",
       "</style>\n",
       "<table border=\"1\" class=\"dataframe\">\n",
       "  <thead>\n",
       "    <tr style=\"text-align: right;\">\n",
       "      <th></th>\n",
       "      <th>Sr No</th>\n",
       "      <th>Date dd/mm/yyyy</th>\n",
       "      <th>Startup Name</th>\n",
       "      <th>Industry Vertical</th>\n",
       "      <th>SubVertical</th>\n",
       "      <th>City  Location</th>\n",
       "      <th>Investors Name</th>\n",
       "      <th>InvestmentnType</th>\n",
       "      <th>Amount in USD</th>\n",
       "      <th>Remarks</th>\n",
       "    </tr>\n",
       "  </thead>\n",
       "  <tbody>\n",
       "    <tr>\n",
       "      <th>0</th>\n",
       "      <td>1</td>\n",
       "      <td>09-01-2020</td>\n",
       "      <td>BYJU’S</td>\n",
       "      <td>E-Tech</td>\n",
       "      <td>E-learning</td>\n",
       "      <td>Bengaluru</td>\n",
       "      <td>Tiger Global Management</td>\n",
       "      <td>Private Equity Round</td>\n",
       "      <td>20,00,00,000</td>\n",
       "      <td>NaN</td>\n",
       "    </tr>\n",
       "    <tr>\n",
       "      <th>1</th>\n",
       "      <td>2</td>\n",
       "      <td>13-01-2020</td>\n",
       "      <td>Shuttl</td>\n",
       "      <td>Transportation</td>\n",
       "      <td>App based shuttle service</td>\n",
       "      <td>Gurgaon</td>\n",
       "      <td>Susquehanna Growth Equity</td>\n",
       "      <td>Series C</td>\n",
       "      <td>80,48,394</td>\n",
       "      <td>NaN</td>\n",
       "    </tr>\n",
       "    <tr>\n",
       "      <th>2</th>\n",
       "      <td>3</td>\n",
       "      <td>09-01-2020</td>\n",
       "      <td>Mamaearth</td>\n",
       "      <td>E-commerce</td>\n",
       "      <td>Retailer of baby and toddler products</td>\n",
       "      <td>Bengaluru</td>\n",
       "      <td>Sequoia Capital India</td>\n",
       "      <td>Series B</td>\n",
       "      <td>1,83,58,860</td>\n",
       "      <td>NaN</td>\n",
       "    </tr>\n",
       "    <tr>\n",
       "      <th>3</th>\n",
       "      <td>4</td>\n",
       "      <td>02-01-2020</td>\n",
       "      <td>https://www.wealthbucket.in/</td>\n",
       "      <td>FinTech</td>\n",
       "      <td>Online Investment</td>\n",
       "      <td>New Delhi</td>\n",
       "      <td>Vinod Khatumal</td>\n",
       "      <td>Pre-series A</td>\n",
       "      <td>30,00,000</td>\n",
       "      <td>NaN</td>\n",
       "    </tr>\n",
       "    <tr>\n",
       "      <th>4</th>\n",
       "      <td>5</td>\n",
       "      <td>02-01-2020</td>\n",
       "      <td>Fashor</td>\n",
       "      <td>Fashion and Apparel</td>\n",
       "      <td>Embroiled Clothes For Women</td>\n",
       "      <td>Mumbai</td>\n",
       "      <td>Sprout Venture Partners</td>\n",
       "      <td>Seed Round</td>\n",
       "      <td>18,00,000</td>\n",
       "      <td>NaN</td>\n",
       "    </tr>\n",
       "  </tbody>\n",
       "</table>\n",
       "</div>"
      ],
      "text/plain": [
       "   Sr No Date dd/mm/yyyy  ... Amount in USD Remarks\n",
       "0      1      09-01-2020  ...  20,00,00,000     NaN\n",
       "1      2      13-01-2020  ...     80,48,394     NaN\n",
       "2      3      09-01-2020  ...   1,83,58,860     NaN\n",
       "3      4      02-01-2020  ...     30,00,000     NaN\n",
       "4      5      02-01-2020  ...     18,00,000     NaN\n",
       "\n",
       "[5 rows x 10 columns]"
      ]
     },
     "execution_count": 4,
     "metadata": {
      "tags": []
     },
     "output_type": "execute_result"
    }
   ],
   "source": [
    "df.head()"
   ]
  },
  {
   "cell_type": "code",
   "execution_count": null,
   "metadata": {
    "colab": {
     "base_uri": "https://localhost:8080/",
     "height": 272
    },
    "id": "gNF5yQqXgT_I",
    "outputId": "7b6952f9-a1b4-498d-d47d-ed27090e5f20"
   },
   "outputs": [
    {
     "data": {
      "text/html": [
       "<div>\n",
       "<style scoped>\n",
       "    .dataframe tbody tr th:only-of-type {\n",
       "        vertical-align: middle;\n",
       "    }\n",
       "\n",
       "    .dataframe tbody tr th {\n",
       "        vertical-align: top;\n",
       "    }\n",
       "\n",
       "    .dataframe thead th {\n",
       "        text-align: right;\n",
       "    }\n",
       "</style>\n",
       "<table border=\"1\" class=\"dataframe\">\n",
       "  <thead>\n",
       "    <tr style=\"text-align: right;\">\n",
       "      <th></th>\n",
       "      <th>Sr No</th>\n",
       "      <th>Date dd/mm/yyyy</th>\n",
       "      <th>Startup Name</th>\n",
       "      <th>Industry Vertical</th>\n",
       "      <th>SubVertical</th>\n",
       "      <th>City  Location</th>\n",
       "      <th>Investors Name</th>\n",
       "      <th>InvestmentnType</th>\n",
       "      <th>Amount in USD</th>\n",
       "      <th>Remarks</th>\n",
       "    </tr>\n",
       "  </thead>\n",
       "  <tbody>\n",
       "    <tr>\n",
       "      <th>3039</th>\n",
       "      <td>3040</td>\n",
       "      <td>29-01-2015</td>\n",
       "      <td>Printvenue</td>\n",
       "      <td>NaN</td>\n",
       "      <td>NaN</td>\n",
       "      <td>NaN</td>\n",
       "      <td>Asia Pacific Internet Group</td>\n",
       "      <td>Private Equity</td>\n",
       "      <td>45,00,000</td>\n",
       "      <td>NaN</td>\n",
       "    </tr>\n",
       "    <tr>\n",
       "      <th>3040</th>\n",
       "      <td>3041</td>\n",
       "      <td>29-01-2015</td>\n",
       "      <td>Graphene</td>\n",
       "      <td>NaN</td>\n",
       "      <td>NaN</td>\n",
       "      <td>NaN</td>\n",
       "      <td>KARSEMVEN Fund</td>\n",
       "      <td>Private Equity</td>\n",
       "      <td>8,25,000</td>\n",
       "      <td>Govt backed VC Fund</td>\n",
       "    </tr>\n",
       "    <tr>\n",
       "      <th>3041</th>\n",
       "      <td>3042</td>\n",
       "      <td>30-01-2015</td>\n",
       "      <td>Mad Street Den</td>\n",
       "      <td>NaN</td>\n",
       "      <td>NaN</td>\n",
       "      <td>NaN</td>\n",
       "      <td>Exfinity Fund, GrowX Ventures.</td>\n",
       "      <td>Private Equity</td>\n",
       "      <td>15,00,000</td>\n",
       "      <td>NaN</td>\n",
       "    </tr>\n",
       "    <tr>\n",
       "      <th>3042</th>\n",
       "      <td>3043</td>\n",
       "      <td>30-01-2015</td>\n",
       "      <td>Simplotel</td>\n",
       "      <td>NaN</td>\n",
       "      <td>NaN</td>\n",
       "      <td>NaN</td>\n",
       "      <td>MakeMyTrip</td>\n",
       "      <td>Private Equity</td>\n",
       "      <td>NaN</td>\n",
       "      <td>Strategic Funding, Minority stake</td>\n",
       "    </tr>\n",
       "    <tr>\n",
       "      <th>3043</th>\n",
       "      <td>3044</td>\n",
       "      <td>31-01-2015</td>\n",
       "      <td>couponmachine.in</td>\n",
       "      <td>NaN</td>\n",
       "      <td>NaN</td>\n",
       "      <td>NaN</td>\n",
       "      <td>UK based Group of Angel Investors</td>\n",
       "      <td>Seed Funding</td>\n",
       "      <td>1,40,000</td>\n",
       "      <td>NaN</td>\n",
       "    </tr>\n",
       "  </tbody>\n",
       "</table>\n",
       "</div>"
      ],
      "text/plain": [
       "      Sr No Date dd/mm/yyyy  ... Amount in USD                            Remarks\n",
       "3039   3040      29-01-2015  ...     45,00,000                                NaN\n",
       "3040   3041      29-01-2015  ...      8,25,000                Govt backed VC Fund\n",
       "3041   3042      30-01-2015  ...     15,00,000                                NaN\n",
       "3042   3043      30-01-2015  ...           NaN  Strategic Funding, Minority stake\n",
       "3043   3044      31-01-2015  ...      1,40,000                                NaN\n",
       "\n",
       "[5 rows x 10 columns]"
      ]
     },
     "execution_count": 5,
     "metadata": {
      "tags": []
     },
     "output_type": "execute_result"
    }
   ],
   "source": [
    "df.tail()"
   ]
  },
  {
   "cell_type": "code",
   "execution_count": null,
   "metadata": {
    "colab": {
     "base_uri": "https://localhost:8080/",
     "height": 34
    },
    "id": "W6X8FHl00z39",
    "outputId": "02d1d22c-c52d-4185-9aff-6daddfc34576"
   },
   "outputs": [
    {
     "name": "stdout",
     "output_type": "stream",
     "text": [
      "Rows 3044 in total and Columns 10 in total\n"
     ]
    }
   ],
   "source": [
    "print('Rows {rows} in total and Columns {columns} in total'.format(rows=df.shape[0],columns=df.shape[1]))"
   ]
  },
  {
   "cell_type": "code",
   "execution_count": null,
   "metadata": {
    "colab": {
     "base_uri": "https://localhost:8080/",
     "height": 357
    },
    "id": "xyODnp011AuR",
    "outputId": "e03bc493-33dc-48a9-9487-0defe829142c"
   },
   "outputs": [
    {
     "name": "stdout",
     "output_type": "stream",
     "text": [
      "Information of total number of non-empty columns\n",
      "-------------------------------------------------\n",
      "<class 'pandas.core.frame.DataFrame'>\n",
      "RangeIndex: 3044 entries, 0 to 3043\n",
      "Data columns (total 10 columns):\n",
      " #   Column             Non-Null Count  Dtype \n",
      "---  ------             --------------  ----- \n",
      " 0   Sr No              3044 non-null   int64 \n",
      " 1   Date dd/mm/yyyy    3044 non-null   object\n",
      " 2   Startup Name       3044 non-null   object\n",
      " 3   Industry Vertical  2873 non-null   object\n",
      " 4   SubVertical        2108 non-null   object\n",
      " 5   City  Location     2864 non-null   object\n",
      " 6   Investors Name     3009 non-null   object\n",
      " 7   InvestmentnType    3040 non-null   object\n",
      " 8   Amount in USD      2073 non-null   object\n",
      " 9   Remarks            419 non-null    object\n",
      "dtypes: int64(1), object(9)\n",
      "memory usage: 237.9+ KB\n",
      "None\n"
     ]
    }
   ],
   "source": [
    "print(\"Information of total number of non-empty columns\")\n",
    "print(\"-------------------------------------------------\")\n",
    "print(df.info(null_counts=True))"
   ]
  },
  {
   "cell_type": "markdown",
   "metadata": {
    "id": "hXl7_HqK17Gg"
   },
   "source": [
    "DATA CLEANING"
   ]
  },
  {
   "cell_type": "code",
   "execution_count": null,
   "metadata": {
    "colab": {
     "base_uri": "https://localhost:8080/",
     "height": 238
    },
    "id": "kn2ti3OD2Crr",
    "outputId": "8984a05c-352a-4be4-f5bc-1a6b0d0028bf"
   },
   "outputs": [
    {
     "name": "stdout",
     "output_type": "stream",
     "text": [
      "Information of total number of empty columns\n",
      "-------------------------------------------------\n",
      "Sr No                   0\n",
      "Date dd/mm/yyyy         0\n",
      "Startup Name            0\n",
      "Industry Vertical     171\n",
      "SubVertical           936\n",
      "City  Location        180\n",
      "Investors Name         35\n",
      "InvestmentnType         4\n",
      "Amount in USD         971\n",
      "Remarks              2625\n",
      "dtype: int64\n"
     ]
    }
   ],
   "source": [
    "print(\"Information of total number of empty columns\")\n",
    "print(\"-------------------------------------------------\")\n",
    "print(df.isnull().sum())"
   ]
  },
  {
   "cell_type": "code",
   "execution_count": null,
   "metadata": {
    "colab": {
     "base_uri": "https://localhost:8080/",
     "height": 399
    },
    "id": "kzumpMzh2TZR",
    "outputId": "7a780047-085e-4b85-b87e-f5224425eb25"
   },
   "outputs": [
    {
     "data": {
      "image/png": "[encoded data removed]",
      "text/plain": [
       "<Figure size 720x360 with 1 Axes>"
      ]
     },
     "metadata": {
      "needs_background": "light",
      "tags": []
     },
     "output_type": "display_data"
    }
   ],
   "source": [
    "plt.figure(figsize=(10,5))                                            #plt is the object of matplot lib and .figure() is used to show or change properties of graphs\n",
    "sns.heatmap(df.isnull(),cmap='viridis',yticklabels=False,cbar=False)   #heatmaps are matrix plots which can visualize data in 2D\n",
    "plt.show()"
   ]
  },
  {
   "cell_type": "code",
   "execution_count": null,
   "metadata": {
    "colab": {
     "base_uri": "https://localhost:8080/",
     "height": 85
    },
    "id": "UavWVmNt2f3o",
    "outputId": "f30429d8-ce5b-47fe-ac12-7ac1c277c951"
   },
   "outputs": [
    {
     "name": "stdout",
     "output_type": "stream",
     "text": [
      "Here we can see in date column error- '.' is there instead of '/'\n"
     ]
    },
    {
     "data": {
      "text/plain": [
       "2775    12/05.2015\n",
       "2776    12/05.2015\n",
       "Name: Date dd/mm/yyyy, dtype: object"
      ]
     },
     "execution_count": 10,
     "metadata": {
      "tags": []
     },
     "output_type": "execute_result"
    }
   ],
   "source": [
    "print(\"Here we can see in date column error- '.' is there instead of '/'\")\n",
    "df[df['Date dd/mm/yyyy']=='12/05.2015']['Date dd/mm/yyyy']"
   ]
  },
  {
   "cell_type": "code",
   "execution_count": null,
   "metadata": {
    "colab": {
     "base_uri": "https://localhost:8080/",
     "height": 119
    },
    "id": "nfMrkneB2uRv",
    "outputId": "8cae31fe-aa87-49f2-e212-37fdefdbd3e9"
   },
   "outputs": [
    {
     "data": {
      "text/plain": [
       "0    20,00,00,000\n",
       "1       80,48,394\n",
       "2     1,83,58,860\n",
       "3       30,00,000\n",
       "4       18,00,000\n",
       "Name: Amount in USD, dtype: object"
      ]
     },
     "execution_count": 11,
     "metadata": {
      "tags": []
     },
     "output_type": "execute_result"
    }
   ],
   "source": [
    "df['Amount in USD'].head(5)  #head(n) displays n rows"
   ]
  },
  {
   "cell_type": "code",
   "execution_count": null,
   "metadata": {
    "id": "GBMw5ZYG3EhH"
   },
   "outputs": [],
   "source": [
    "df['City  Location'] = df['City  Location'].fillna(value='NotSpecific') "
   ]
  },
  {
   "cell_type": "code",
   "execution_count": null,
   "metadata": {
    "id": "T8CRX9Xd3RUk"
   },
   "outputs": [],
   "source": [
    "df['Industry Vertical'] = df['Industry Vertical'].fillna(value='Other')"
   ]
  },
  {
   "cell_type": "code",
   "execution_count": null,
   "metadata": {
    "colab": {
     "base_uri": "https://localhost:8080/",
     "height": 425
    },
    "id": "P0yzZzfg3ctn",
    "outputId": "214c297a-e2bb-4d52-917d-6332c3fcb004"
   },
   "outputs": [
    {
     "data": {
      "text/plain": [
       "array(['Bengaluru', 'Gurgaon', 'New Delhi', 'Mumbai', 'Chennai', 'Pune',\n",
       "       'Noida', 'Faridabad', 'San Francisco', 'San Jose,', 'Amritsar',\n",
       "       'Delhi', 'Kormangala', 'Tulangan', 'Hyderabad', 'Burnsville',\n",
       "       'Menlo Park', 'Gurugram', 'Palo Alto', 'Santa Monica', 'Singapore',\n",
       "       'Taramani', 'Andheri', 'Chembur', 'Nairobi', 'Haryana', 'New York',\n",
       "       'Karnataka', 'Mumbai/Bengaluru', 'Bhopal',\n",
       "       'Bengaluru and Gurugram', 'India/Singapore', 'Jaipur', 'India/US',\n",
       "       'Nagpur', 'Indore', 'New York, Bengaluru', 'California', 'India',\n",
       "       'Ahemadabad', 'Rourkela', 'Srinagar', 'Bhubneswar', 'Chandigarh',\n",
       "       'Delhi & Cambridge', 'Kolkatta', 'Kolkata', 'Coimbatore',\n",
       "       'Bangalore', 'Udaipur', 'NotSpecific', 'Ahemdabad', 'Bhubaneswar',\n",
       "       'Ahmedabad', 'Surat', 'Goa', 'Uttar Pradesh', 'Nw Delhi', 'Gaya',\n",
       "       'Vadodara', 'Trivandrum', 'Missourie', 'Panaji', 'Gwalior',\n",
       "       'Karur', 'Udupi', 'Kochi', 'Agra', 'Bangalore/ Bangkok', 'Hubli',\n",
       "       'Kerala', 'Kozhikode', 'US', 'Siliguri', 'USA', 'Lucknow',\n",
       "       'Kanpur', 'SFO / Bangalore', 'London', 'Seattle / Bangalore',\n",
       "       'Pune/Seattle', 'Pune / Dubai', 'Bangalore / SFO', 'Varanasi',\n",
       "       'New Delhi / US', 'Mumbai / UK', 'Jodhpur', 'Hyderabad/USA',\n",
       "       'Boston', 'Bangalore / Palo Alto', 'Mumbai / NY', 'USA/India',\n",
       "       'Goa/Hyderabad', 'Noida / Singapore', 'Belgaum', 'Pune / US',\n",
       "       'Chennai/ Singapore', 'Pune / Singapore', 'Bangalore / San Mateo',\n",
       "       'New York/ India', 'US/India', 'Gurgaon / SFO', 'Bangalore / USA',\n",
       "       'New Delhi/ Houston', 'Mumbai / Global', 'India / US',\n",
       "       'New Delhi / California', 'Dallas / Hyderabad'], dtype=object)"
      ]
     },
     "execution_count": 14,
     "metadata": {
      "tags": []
     },
     "output_type": "execute_result"
    }
   ],
   "source": [
    "df[\"City  Location\"].unique()"
   ]
  },
  {
   "cell_type": "code",
   "execution_count": null,
   "metadata": {
    "id": "2ApWBays42Nz"
   },
   "outputs": [],
   "source": [
    "import re                               #importing regular expressions\n",
    "def convert_Slash(x):                   #converts citylocation where multiple citiescentres\n",
    "    x=x.lower()                         #converting  whole data to lower case to avoid dublicate entries \n",
    "    if re.search('/',x):\n",
    "      return x.split('/')[0].strip()    #converting multiple citycentres to single one   \n",
    "    else :\n",
    "      return x.strip()                 # removing extra spaces from left and right to reduce duplicate cities\n",
    "\n",
    "df['City  Location']=df['City  Location'].apply(convert_Slash)"
   ]
  },
  {
   "cell_type": "code",
   "execution_count": null,
   "metadata": {
    "colab": {
     "base_uri": "https://localhost:8080/",
     "height": 289
    },
    "id": "suFe6wtn7bn1",
    "outputId": "d7e80919-0018-4330-8944-0dc6811f3ca5"
   },
   "outputs": [
    {
     "data": {
      "text/plain": [
       "array(['bengaluru', 'gurgaon', 'new delhi', 'mumbai', 'chennai', 'pune',\n",
       "       'noida', 'faridabad', 'san francisco', 'san jose,', 'amritsar',\n",
       "       'delhi', 'kormangala', 'tulangan', 'hyderabad', 'burnsville',\n",
       "       'menlo park', 'gurugram', 'palo alto', 'santa monica', 'singapore',\n",
       "       'taramani', 'andheri', 'chembur', 'nairobi', 'haryana', 'new york',\n",
       "       'karnataka', 'bhopal', 'bengaluru and gurugram', 'india', 'jaipur',\n",
       "       'nagpur', 'indore', 'new york, bengaluru', 'california',\n",
       "       'ahemadabad', 'rourkela', 'srinagar', 'bhubneswar', 'chandigarh',\n",
       "       'delhi & cambridge', 'kolkatta', 'kolkata', 'coimbatore',\n",
       "       'bangalore', 'udaipur', 'notspecific', 'ahemdabad', 'bhubaneswar',\n",
       "       'ahmedabad', 'surat', 'goa', 'uttar pradesh', 'nw delhi', 'gaya',\n",
       "       'vadodara', 'trivandrum', 'missourie', 'panaji', 'gwalior',\n",
       "       'karur', 'udupi', 'kochi', 'agra', 'hubli', 'kerala', 'kozhikode',\n",
       "       'us', 'siliguri', 'usa', 'lucknow', 'kanpur', 'sfo', 'london',\n",
       "       'seattle', 'varanasi', 'jodhpur', 'boston', 'belgaum', 'dallas'],\n",
       "      dtype=object)"
      ]
     },
     "execution_count": 16,
     "metadata": {
      "tags": []
     },
     "output_type": "execute_result"
    }
   ],
   "source": [
    "df[\"City  Location\"].unique()"
   ]
  },
  {
   "cell_type": "code",
   "execution_count": null,
   "metadata": {
    "id": "BnGUQZzL7gbS"
   },
   "outputs": [],
   "source": [
    "newdf=df.copy()#backup cleansed data\n",
    "del newdf['Remarks']#remaks is deleted to overcome stability in analysis\n",
    "del newdf['Sr No']"
   ]
  },
  {
   "cell_type": "code",
   "execution_count": null,
   "metadata": {
    "colab": {
     "base_uri": "https://localhost:8080/",
     "height": 952
    },
    "id": "EpABHC3T72rV",
    "outputId": "a9df75f9-a3da-4d92-cc8f-295ae1f7d7ce"
   },
   "outputs": [
    {
     "data": {
      "text/plain": [
       "Seed Funding                   1382\n",
       "Private Equity                 1357\n",
       "Seed/ Angel Funding              60\n",
       "Seed / Angel Funding             47\n",
       "Debt Funding                     25\n",
       "Series A                         24\n",
       "Seed/Angel Funding               23\n",
       "Series B                         20\n",
       "Series C                         14\n",
       "Series D                         12\n",
       "Angel / Seed Funding              8\n",
       "Seed Round                        7\n",
       "Pre-Series A                      4\n",
       "Seed                              4\n",
       "Private Equity Round              4\n",
       "SeedFunding                       3\n",
       "Seed / Angle Funding              3\n",
       "Corporate Round                   2\n",
       "Series F                          2\n",
       "Venture Round                     2\n",
       "Series E                          2\n",
       "Equity                            2\n",
       "pre-Series A                      2\n",
       "Venture - Series N/A              1\n",
       "Maiden Round                      1\n",
       "Seed funding                      1\n",
       "Bridge Round                      1\n",
       "Angel Round                       1\n",
       "Structured Debt                   1\n",
       "Pre-series A                      1\n",
       "Series H                          1\n",
       "Debt-Funding                      1\n",
       "Funding Round                     1\n",
       "Term Loan                         1\n",
       "pre-series A                      1\n",
       "PrivateEquity                     1\n",
       "Seed Funding Round                1\n",
       "Pre Series A                      1\n",
       "Venture                           1\n",
       "Debt and Preference capital       1\n",
       "Private                           1\n",
       "Crowd Funding                     1\n",
       "Series J                          1\n",
       "Inhouse Funding                   1\n",
       "Equity Based Funding              1\n",
       "Mezzanine                         1\n",
       "Series B (Extension)              1\n",
       "Debt                              1\n",
       "Angel Funding                     1\n",
       "Private Funding                   1\n",
       "Series G                          1\n",
       "Single Venture                    1\n",
       "Crowd funding                     1\n",
       "Angel                             1\n",
       "Name: InvestmentnType, dtype: int64"
      ]
     },
     "execution_count": 18,
     "metadata": {
      "tags": []
     },
     "output_type": "execute_result"
    }
   ],
   "source": [
    "newdf[\"InvestmentnType\"].value_counts()"
   ]
  },
  {
   "cell_type": "code",
   "execution_count": null,
   "metadata": {
    "id": "kH05Jqch02b_"
   },
   "outputs": [],
   "source": [
    "newdf['InvestmentnType'] = newdf.InvestmentnType.astype('category')"
   ]
  },
  {
   "cell_type": "code",
   "execution_count": null,
   "metadata": {
    "colab": {
     "base_uri": "https://localhost:8080/",
     "height": 799
    },
    "id": "VCOD9btP88Vf",
    "outputId": "f61e7f98-fbbb-4e5a-dc0b-513943ac216e"
   },
   "outputs": [
    {
     "data": {
      "text/plain": [
       "seedfunding                 1386\n",
       "privateequity               1358\n",
       "seed/angelfunding            130\n",
       "debtfunding                   25\n",
       "seriesa                       24\n",
       "seriesb                       20\n",
       "seriesc                       14\n",
       "seriesd                       12\n",
       "pre-seriesa                    8\n",
       "angel/seedfunding              8\n",
       "seedround                      7\n",
       "seed                           4\n",
       "privateequityround             4\n",
       "seed/anglefunding              3\n",
       "crowdfunding                   2\n",
       "seriese                        2\n",
       "equity                         2\n",
       "corporateround                 2\n",
       "seriesf                        2\n",
       "ventureround                   2\n",
       "termloan                       1\n",
       "venture                        1\n",
       "venture-seriesn/a              1\n",
       "private                        1\n",
       "inhousefunding                 1\n",
       "seriesh                        1\n",
       "debt-funding                   1\n",
       "seedfundinground               1\n",
       "angelfunding                   1\n",
       "singleventure                  1\n",
       "angel                          1\n",
       "structureddebt                 1\n",
       "preseriesa                     1\n",
       "maidenround                    1\n",
       "privatefunding                 1\n",
       "seriesj                        1\n",
       "angelround                     1\n",
       "equitybasedfunding             1\n",
       "debt                           1\n",
       "bridgeround                    1\n",
       "debtandpreferencecapital       1\n",
       "fundinground                   1\n",
       "seriesg                        1\n",
       "mezzanine                      1\n",
       "seriesb(extension)             1\n",
       "Name: InvestmentnType, dtype: int64"
      ]
     },
     "execution_count": 20,
     "metadata": {
      "tags": []
     },
     "output_type": "execute_result"
    }
   ],
   "source": [
    "newdf['InvestmentnType'] = newdf['InvestmentnType'].apply(lambda x:x.replace(' ','').lower()) #code to apply mapping to remove duplicate categories\n",
    "\n",
    "newdf['InvestmentnType'].value_counts()"
   ]
  },
  {
   "cell_type": "code",
   "execution_count": null,
   "metadata": {
    "id": "8Qkj2JeQ9do6"
   },
   "outputs": [],
   "source": [
    "newdf[\"InvestmentnType\"].replace({\"angel/seedfunding\": \"seed/angelfunding\", \"seed/anglefunding\": \"seed/angelfunding\", \"pre-seriesa\": \"preseriesa\"}, inplace=True)"
   ]
  },
  {
   "cell_type": "code",
   "execution_count": null,
   "metadata": {
    "colab": {
     "base_uri": "https://localhost:8080/",
     "height": 748
    },
    "id": "X2nHVLn97SBx",
    "outputId": "f20347c6-608c-49a6-81dc-4ec344c6c963"
   },
   "outputs": [
    {
     "data": {
      "text/plain": [
       "seedfunding                 1386\n",
       "privateequity               1358\n",
       "seed/angelfunding            141\n",
       "debtfunding                   25\n",
       "seriesa                       24\n",
       "seriesb                       20\n",
       "seriesc                       14\n",
       "seriesd                       12\n",
       "preseriesa                     9\n",
       "seedround                      7\n",
       "seed                           4\n",
       "privateequityround             4\n",
       "seriese                        2\n",
       "crowdfunding                   2\n",
       "corporateround                 2\n",
       "ventureround                   2\n",
       "seriesf                        2\n",
       "equity                         2\n",
       "seriesj                        1\n",
       "debt-funding                   1\n",
       "seedfundinground               1\n",
       "angelfunding                   1\n",
       "singleventure                  1\n",
       "inhousefunding                 1\n",
       "structureddebt                 1\n",
       "private                        1\n",
       "venture-seriesn/a              1\n",
       "seriesb(extension)             1\n",
       "angelround                     1\n",
       "debt                           1\n",
       "bridgeround                    1\n",
       "fundinground                   1\n",
       "seriesg                        1\n",
       "mezzanine                      1\n",
       "maidenround                    1\n",
       "termloan                       1\n",
       "equitybasedfunding             1\n",
       "privatefunding                 1\n",
       "venture                        1\n",
       "angel                          1\n",
       "seriesh                        1\n",
       "debtandpreferencecapital       1\n",
       "Name: InvestmentnType, dtype: int64"
      ]
     },
     "execution_count": 22,
     "metadata": {
      "tags": []
     },
     "output_type": "execute_result"
    }
   ],
   "source": [
    "newdf['InvestmentnType'].value_counts()"
   ]
  },
  {
   "cell_type": "code",
   "execution_count": null,
   "metadata": {
    "id": "issBpoJv7YT9"
   },
   "outputs": [],
   "source": [
    "def rem_err_date(x):                #function checks for error in format of date column in funding dataframe\n",
    "    if re.search('.',x):            #data column has formatting errors like '12/052015','13/042015' where backslash (/) is missing or at wrong position\n",
    "        return x.replace('.','')\n",
    "    return x\n",
    "\n",
    "def rem_err_date1(x):\n",
    "  if re.search('-',x):\n",
    "    return x.replace('-','/')\n",
    "  return x\n",
    "\n",
    "newdf['Date dd/mm/yyyy']=newdf['Date dd/mm/yyyy'].apply(rem_err_date)             #applying user defined funciton to date column using apply() which maps u.d.f to each record of date column\n",
    "newdf['Date dd/mm/yyyy']=newdf['Date dd/mm/yyyy'].apply(rem_err_date1)\n",
    "newdf['Date dd/mm/yyyy'].replace('12/052015','12/05/2015',inplace=True)\n",
    "newdf['Date dd/mm/yyyy'].replace('05/072018','05/07/2018',inplace=True)\n",
    "newdf['Date dd/mm/yyyy'].replace('15/012015','15/01/2015',inplace=True)\n",
    "newdf['Date dd/mm/yyyy'].replace('22/01//2015','22/01/2015',inplace=True)\n",
    "newdf['Date dd/mm/yyyy'].replace('13/042015','13/04/2015',inplace=True)\n",
    "newdf['Date dd/mm/yyyy'].replace('01/07/015','01/07/2015',inplace=True)\n",
    "newdf['Date dd/mm/yyyy']=pd.to_datetime(newdf['Date dd/mm/yyyy'],format='%d/%m/%Y')#d/m/y is the format and to_datetime() is used to convert the datatype of date column to \"datetime\" from string\n"
   ]
  },
  {
   "cell_type": "code",
   "execution_count": null,
   "metadata": {
    "colab": {
     "base_uri": "https://localhost:8080/",
     "height": 170
    },
    "id": "HR8GeKjMOmVI",
    "outputId": "2960ef8c-0adb-4c11-d4e4-104627fb8f04"
   },
   "outputs": [
    {
     "data": {
      "text/plain": [
       "Date dd/mm/yyyy      datetime64[ns]\n",
       "Startup Name                 object\n",
       "Industry Vertical            object\n",
       "SubVertical                  object\n",
       "City  Location               object\n",
       "Investors Name               object\n",
       "InvestmentnType              object\n",
       "Amount in USD                object\n",
       "dtype: object"
      ]
     },
     "execution_count": 24,
     "metadata": {
      "tags": []
     },
     "output_type": "execute_result"
    }
   ],
   "source": [
    "newdf.dtypes"
   ]
  },
  {
   "cell_type": "code",
   "execution_count": null,
   "metadata": {
    "id": "TuGYLYTDPlq0"
   },
   "outputs": [],
   "source": [
    "def calculate_n_investors(x):             #function to calculate record wise number of investors\n",
    "    if  re.search(',',x) and x!='empty':\n",
    "        return len(x.split(','))\n",
    "    elif x!='empty':\n",
    "        return 1\n",
    "    else:\n",
    "        return -1\n",
    "newdf['numberofinvestors'] = newdf['Investors Name'].replace(np.NaN,'empty').apply(calculate_n_investors) #removing missing investors and replacing with 'empty'\n"
   ]
  },
  {
   "cell_type": "code",
   "execution_count": null,
   "metadata": {
    "id": "2m-iz6l4QACF"
   },
   "outputs": [],
   "source": [
    "n_inv2 = newdf\n",
    "\n",
    "n_inv = newdf['Investors Name']\n",
    "n_inv.fillna(value='None',inplace=True)\n",
    "listed_n_inv = n_inv.apply(lambda x: x.lower().strip().split(','))\n",
    "investors=[]\n",
    "for i in listed_n_inv:\n",
    "    for j in i:\n",
    "        if(i!='None' or i!=''):\n",
    "            investors.append(j.strip())\n",
    "unique_investors=list(set(investors)) "
   ]
  },
  {
   "cell_type": "code",
   "execution_count": null,
   "metadata": {
    "id": "2Re8DSiHSZ32"
   },
   "outputs": [],
   "source": [
    "investors=pd.Series(investors)\n",
    "unique_investors=pd.Series(unique_investors)"
   ]
  },
  {
   "cell_type": "code",
   "execution_count": null,
   "metadata": {
    "id": "qxf2iJs2Sj5P"
   },
   "outputs": [],
   "source": [
    "investors=list(investors[investors!=''])\n",
    "unique_investors=list(unique_investors[unique_investors!=''])"
   ]
  },
  {
   "cell_type": "code",
   "execution_count": null,
   "metadata": {
    "colab": {
     "base_uri": "https://localhost:8080/",
     "height": 357
    },
    "id": "64bWOY-lSujz",
    "outputId": "6dd35186-745c-458d-f14f-6edfcc4cbd33"
   },
   "outputs": [
    {
     "ename": "error",
     "evalue": "ignored",
     "output_type": "error",
     "traceback": [
      "\u001b[0;31m---------------------------------------------------------------------------\u001b[0m",
      "\u001b[0;31merror\u001b[0m                                     Traceback (most recent call last)",
      "\u001b[0;32m<ipython-input-29-a4fceec5efc8>\u001b[0m in \u001b[0;36m<module>\u001b[0;34m()\u001b[0m\n\u001b[1;32m      1\u001b[0m \u001b[0;32mfor\u001b[0m \u001b[0mi\u001b[0m \u001b[0;32min\u001b[0m \u001b[0mrange\u001b[0m\u001b[0;34m(\u001b[0m\u001b[0mlen\u001b[0m\u001b[0;34m(\u001b[0m\u001b[0munique_investors\u001b[0m\u001b[0;34m)\u001b[0m\u001b[0;34m)\u001b[0m\u001b[0;34m:\u001b[0m\u001b[0;34m\u001b[0m\u001b[0;34m\u001b[0m\u001b[0m\n\u001b[1;32m      2\u001b[0m   \u001b[0;32mfor\u001b[0m \u001b[0mj\u001b[0m \u001b[0;32min\u001b[0m \u001b[0mrange\u001b[0m\u001b[0;34m(\u001b[0m\u001b[0mlen\u001b[0m\u001b[0;34m(\u001b[0m\u001b[0minvestors\u001b[0m\u001b[0;34m)\u001b[0m\u001b[0;34m)\u001b[0m\u001b[0;34m:\u001b[0m\u001b[0;34m\u001b[0m\u001b[0;34m\u001b[0m\u001b[0m\n\u001b[0;32m----> 3\u001b[0;31m     \u001b[0;32mif\u001b[0m \u001b[0mre\u001b[0m\u001b[0;34m.\u001b[0m\u001b[0msearch\u001b[0m\u001b[0;34m(\u001b[0m\u001b[0munique_investors\u001b[0m\u001b[0;34m[\u001b[0m\u001b[0mi\u001b[0m\u001b[0;34m]\u001b[0m\u001b[0;34m,\u001b[0m\u001b[0minvestors\u001b[0m\u001b[0;34m[\u001b[0m\u001b[0mj\u001b[0m\u001b[0;34m]\u001b[0m\u001b[0;34m)\u001b[0m\u001b[0;34m:\u001b[0m\u001b[0;34m\u001b[0m\u001b[0;34m\u001b[0m\u001b[0m\n\u001b[0m\u001b[1;32m      4\u001b[0m       \u001b[0minvestors\u001b[0m\u001b[0;34m[\u001b[0m\u001b[0mj\u001b[0m\u001b[0;34m]\u001b[0m \u001b[0;34m=\u001b[0m \u001b[0munique_investors\u001b[0m\u001b[0;34m[\u001b[0m\u001b[0mi\u001b[0m\u001b[0;34m]\u001b[0m\u001b[0;34m\u001b[0m\u001b[0;34m\u001b[0m\u001b[0m\n",
      "\u001b[0;32m/usr/lib/python3.6/re.py\u001b[0m in \u001b[0;36msearch\u001b[0;34m(pattern, string, flags)\u001b[0m\n\u001b[1;32m    180\u001b[0m     \"\"\"Scan through string looking for a match to the pattern, returning\n\u001b[1;32m    181\u001b[0m     a match object, or None if no match was found.\"\"\"\n\u001b[0;32m--> 182\u001b[0;31m     \u001b[0;32mreturn\u001b[0m \u001b[0m_compile\u001b[0m\u001b[0;34m(\u001b[0m\u001b[0mpattern\u001b[0m\u001b[0;34m,\u001b[0m \u001b[0mflags\u001b[0m\u001b[0;34m)\u001b[0m\u001b[0;34m.\u001b[0m\u001b[0msearch\u001b[0m\u001b[0;34m(\u001b[0m\u001b[0mstring\u001b[0m\u001b[0;34m)\u001b[0m\u001b[0;34m\u001b[0m\u001b[0;34m\u001b[0m\u001b[0m\n\u001b[0m\u001b[1;32m    183\u001b[0m \u001b[0;34m\u001b[0m\u001b[0m\n\u001b[1;32m    184\u001b[0m \u001b[0;32mdef\u001b[0m \u001b[0msub\u001b[0m\u001b[0;34m(\u001b[0m\u001b[0mpattern\u001b[0m\u001b[0;34m,\u001b[0m \u001b[0mrepl\u001b[0m\u001b[0;34m,\u001b[0m \u001b[0mstring\u001b[0m\u001b[0;34m,\u001b[0m \u001b[0mcount\u001b[0m\u001b[0;34m=\u001b[0m\u001b[0;36m0\u001b[0m\u001b[0;34m,\u001b[0m \u001b[0mflags\u001b[0m\u001b[0;34m=\u001b[0m\u001b[0;36m0\u001b[0m\u001b[0;34m)\u001b[0m\u001b[0;34m:\u001b[0m\u001b[0;34m\u001b[0m\u001b[0;34m\u001b[0m\u001b[0m\n",
      "\u001b[0;32m/usr/lib/python3.6/re.py\u001b[0m in \u001b[0;36m_compile\u001b[0;34m(pattern, flags)\u001b[0m\n\u001b[1;32m    299\u001b[0m     \u001b[0;32mif\u001b[0m \u001b[0;32mnot\u001b[0m \u001b[0msre_compile\u001b[0m\u001b[0;34m.\u001b[0m\u001b[0misstring\u001b[0m\u001b[0;34m(\u001b[0m\u001b[0mpattern\u001b[0m\u001b[0;34m)\u001b[0m\u001b[0;34m:\u001b[0m\u001b[0;34m\u001b[0m\u001b[0;34m\u001b[0m\u001b[0m\n\u001b[1;32m    300\u001b[0m         \u001b[0;32mraise\u001b[0m \u001b[0mTypeError\u001b[0m\u001b[0;34m(\u001b[0m\u001b[0;34m\"first argument must be string or compiled pattern\"\u001b[0m\u001b[0;34m)\u001b[0m\u001b[0;34m\u001b[0m\u001b[0;34m\u001b[0m\u001b[0m\n\u001b[0;32m--> 301\u001b[0;31m     \u001b[0mp\u001b[0m \u001b[0;34m=\u001b[0m \u001b[0msre_compile\u001b[0m\u001b[0;34m.\u001b[0m\u001b[0mcompile\u001b[0m\u001b[0;34m(\u001b[0m\u001b[0mpattern\u001b[0m\u001b[0;34m,\u001b[0m \u001b[0mflags\u001b[0m\u001b[0;34m)\u001b[0m\u001b[0;34m\u001b[0m\u001b[0;34m\u001b[0m\u001b[0m\n\u001b[0m\u001b[1;32m    302\u001b[0m     \u001b[0;32mif\u001b[0m \u001b[0;32mnot\u001b[0m \u001b[0;34m(\u001b[0m\u001b[0mflags\u001b[0m \u001b[0;34m&\u001b[0m \u001b[0mDEBUG\u001b[0m\u001b[0;34m)\u001b[0m\u001b[0;34m:\u001b[0m\u001b[0;34m\u001b[0m\u001b[0;34m\u001b[0m\u001b[0m\n\u001b[1;32m    303\u001b[0m         \u001b[0;32mif\u001b[0m \u001b[0mlen\u001b[0m\u001b[0;34m(\u001b[0m\u001b[0m_cache\u001b[0m\u001b[0;34m)\u001b[0m \u001b[0;34m>=\u001b[0m \u001b[0m_MAXCACHE\u001b[0m\u001b[0;34m:\u001b[0m\u001b[0;34m\u001b[0m\u001b[0;34m\u001b[0m\u001b[0m\n",
      "\u001b[0;32m/usr/lib/python3.6/sre_compile.py\u001b[0m in \u001b[0;36mcompile\u001b[0;34m(p, flags)\u001b[0m\n\u001b[1;32m    560\u001b[0m     \u001b[0;32mif\u001b[0m \u001b[0misstring\u001b[0m\u001b[0;34m(\u001b[0m\u001b[0mp\u001b[0m\u001b[0;34m)\u001b[0m\u001b[0;34m:\u001b[0m\u001b[0;34m\u001b[0m\u001b[0;34m\u001b[0m\u001b[0m\n\u001b[1;32m    561\u001b[0m         \u001b[0mpattern\u001b[0m \u001b[0;34m=\u001b[0m \u001b[0mp\u001b[0m\u001b[0;34m\u001b[0m\u001b[0;34m\u001b[0m\u001b[0m\n\u001b[0;32m--> 562\u001b[0;31m         \u001b[0mp\u001b[0m \u001b[0;34m=\u001b[0m \u001b[0msre_parse\u001b[0m\u001b[0;34m.\u001b[0m\u001b[0mparse\u001b[0m\u001b[0;34m(\u001b[0m\u001b[0mp\u001b[0m\u001b[0;34m,\u001b[0m \u001b[0mflags\u001b[0m\u001b[0;34m)\u001b[0m\u001b[0;34m\u001b[0m\u001b[0;34m\u001b[0m\u001b[0m\n\u001b[0m\u001b[1;32m    563\u001b[0m     \u001b[0;32melse\u001b[0m\u001b[0;34m:\u001b[0m\u001b[0;34m\u001b[0m\u001b[0;34m\u001b[0m\u001b[0m\n\u001b[1;32m    564\u001b[0m         \u001b[0mpattern\u001b[0m \u001b[0;34m=\u001b[0m \u001b[0;32mNone\u001b[0m\u001b[0;34m\u001b[0m\u001b[0;34m\u001b[0m\u001b[0m\n",
      "\u001b[0;32m/usr/lib/python3.6/sre_parse.py\u001b[0m in \u001b[0;36mparse\u001b[0;34m(str, flags, pattern)\u001b[0m\n\u001b[1;32m    867\u001b[0m     \u001b[0;32mif\u001b[0m \u001b[0msource\u001b[0m\u001b[0;34m.\u001b[0m\u001b[0mnext\u001b[0m \u001b[0;32mis\u001b[0m \u001b[0;32mnot\u001b[0m \u001b[0;32mNone\u001b[0m\u001b[0;34m:\u001b[0m\u001b[0;34m\u001b[0m\u001b[0;34m\u001b[0m\u001b[0m\n\u001b[1;32m    868\u001b[0m         \u001b[0;32massert\u001b[0m \u001b[0msource\u001b[0m\u001b[0;34m.\u001b[0m\u001b[0mnext\u001b[0m \u001b[0;34m==\u001b[0m \u001b[0;34m\")\"\u001b[0m\u001b[0;34m\u001b[0m\u001b[0;34m\u001b[0m\u001b[0m\n\u001b[0;32m--> 869\u001b[0;31m         \u001b[0;32mraise\u001b[0m \u001b[0msource\u001b[0m\u001b[0;34m.\u001b[0m\u001b[0merror\u001b[0m\u001b[0;34m(\u001b[0m\u001b[0;34m\"unbalanced parenthesis\"\u001b[0m\u001b[0;34m)\u001b[0m\u001b[0;34m\u001b[0m\u001b[0;34m\u001b[0m\u001b[0m\n\u001b[0m\u001b[1;32m    870\u001b[0m \u001b[0;34m\u001b[0m\u001b[0m\n\u001b[1;32m    871\u001b[0m     \u001b[0;32mif\u001b[0m \u001b[0mflags\u001b[0m \u001b[0;34m&\u001b[0m \u001b[0mSRE_FLAG_DEBUG\u001b[0m\u001b[0;34m:\u001b[0m\u001b[0;34m\u001b[0m\u001b[0;34m\u001b[0m\u001b[0m\n",
      "\u001b[0;31merror\u001b[0m: unbalanced parenthesis at position 6"
     ]
    }
   ],
   "source": [
    "for i in range(len(unique_investors)):\n",
    "  for j in range(len(investors)):\n",
    "    if re.search(unique_investors[i],investors[j]):            \n",
    "      investors[j] = unique_investors[i]"
   ]
  },
  {
   "cell_type": "markdown",
   "metadata": {
    "id": "1znpfGokTNSU"
   },
   "source": [
    "FILLING MISSING VALUES IN AmountInUSD"
   ]
  },
  {
   "cell_type": "code",
   "execution_count": null,
   "metadata": {
    "id": "RFhvE4lQSyfs"
   },
   "outputs": [],
   "source": [
    "def convert_AmountInUSD(x):\n",
    "    if re.search(',',x):\n",
    "        return (x.replace(',',''))\n",
    "    return x\n",
    "newdf['Amount in USD'] = newdf[newdf['Amount in USD'].notnull()][\"Amount in USD\"].apply(convert_AmountInUSD)"
   ]
  },
  {
   "cell_type": "code",
   "execution_count": null,
   "metadata": {
    "id": "Eau2kl2YT_zf"
   },
   "outputs": [],
   "source": [
    "newdf['Amount in USD'] = newdf[newdf['Amount in USD'].notnull()][\"Amount in USD\"].astype(float).astype(int)"
   ]
  },
  {
   "cell_type": "code",
   "execution_count": null,
   "metadata": {
    "id": "vow-3NRaPLNl"
   },
   "outputs": [],
   "source": [
    "newdf['InvestmentnType'].fillna(method='bfill',inplace=True) #backward filling of null values"
   ]
  },
  {
   "cell_type": "code",
   "execution_count": null,
   "metadata": {
    "id": "gMSxouTAGVvc"
   },
   "outputs": [],
   "source": [
    "newdf.iloc[:,[1,2,3,4,6]] = newdf.iloc[:,[1,2,3,4,6]].applymap(lambda x: x.lower().replace(' ','') if pd.notnull(x) is True else x )"
   ]
  },
  {
   "cell_type": "code",
   "execution_count": null,
   "metadata": {
    "id": "_Zjv2EK6GgTG"
   },
   "outputs": [],
   "source": [
    "def check(x):\n",
    "    if(pd.notnull(x)):\n",
    "        return x.lower()\n",
    "newdf.iloc[:,3]=newdf.iloc[:,3].apply(check)  "
   ]
  },
  {
   "cell_type": "code",
   "execution_count": null,
   "metadata": {
    "id": "YbTpJjo_HP6S"
   },
   "outputs": [],
   "source": [
    "newdf['Amount in USD'] = round(newdf['Amount in USD'].fillna(np.mean(newdf['Amount in USD'])))\n",
    "newdf['Amount in USD'] = newdf['Amount in USD'].astype('int')"
   ]
  },
  {
   "cell_type": "code",
   "execution_count": null,
   "metadata": {
    "colab": {
     "base_uri": "https://localhost:8080/",
     "height": 404
    },
    "id": "Qi6ZInwmGsNX",
    "outputId": "2fe08ba8-f49a-488f-af3e-a989e26a000d"
   },
   "outputs": [
    {
     "data": {
      "image/png": "[encoded data removed]",
      "text/plain": [
       "<Figure size 720x360 with 1 Axes>"
      ]
     },
     "metadata": {
      "needs_background": "light",
      "tags": []
     },
     "output_type": "display_data"
    }
   ],
   "source": [
    "plt.figure(figsize=(10,5))\n",
    "sns.heatmap(newdf.isnull(),cmap='viridis',yticklabels=False,cbar=False)\n",
    "plt.show()"
   ]
  },
  {
   "cell_type": "code",
   "execution_count": null,
   "metadata": {
    "id": "cAhmtKF7G1S9"
   },
   "outputs": [],
   "source": [
    "unique_startup_name = list(newdf['Startup Name'].unique())\n",
    "startupname = list(newdf['Startup Name'])"
   ]
  },
  {
   "cell_type": "code",
   "execution_count": null,
   "metadata": {
    "id": "1WcjsrsoHt5J"
   },
   "outputs": [],
   "source": [
    "for i in range(len(unique_startup_name)):\n",
    "    for j in range(len(startupname)):\n",
    "        if(re.search(unique_startup_name[i],startupname[j])):\n",
    "            startupname[j]=unique_startup_name[i]"
   ]
  },
  {
   "cell_type": "code",
   "execution_count": null,
   "metadata": {
    "id": "rXH65d7CHx1J"
   },
   "outputs": [],
   "source": [
    "newdf['Startup Name'] = startupname"
   ]
  },
  {
   "cell_type": "markdown",
   "metadata": {
    "id": "6tb0oJ5HJCBd"
   },
   "source": [
    "INDEPTH ANALYSIS"
   ]
  },
  {
   "cell_type": "code",
   "execution_count": null,
   "metadata": {
    "colab": {
     "base_uri": "https://localhost:8080/",
     "height": 255
    },
    "id": "8MJs4C0CH7Yi",
    "outputId": "5d6cdba2-3bbe-4303-aa25-ed9b254121ed"
   },
   "outputs": [
    {
     "data": {
      "text/html": [
       "<div>\n",
       "<style scoped>\n",
       "    .dataframe tbody tr th:only-of-type {\n",
       "        vertical-align: middle;\n",
       "    }\n",
       "\n",
       "    .dataframe tbody tr th {\n",
       "        vertical-align: top;\n",
       "    }\n",
       "\n",
       "    .dataframe thead th {\n",
       "        text-align: right;\n",
       "    }\n",
       "</style>\n",
       "<table border=\"1\" class=\"dataframe\">\n",
       "  <thead>\n",
       "    <tr style=\"text-align: right;\">\n",
       "      <th></th>\n",
       "      <th>Date dd/mm/yyyy</th>\n",
       "      <th>Startup Name</th>\n",
       "      <th>Industry Vertical</th>\n",
       "      <th>SubVertical</th>\n",
       "      <th>City  Location</th>\n",
       "      <th>Investors Name</th>\n",
       "      <th>InvestmentnType</th>\n",
       "      <th>Amount in USD</th>\n",
       "      <th>numberofinvestors</th>\n",
       "    </tr>\n",
       "  </thead>\n",
       "  <tbody>\n",
       "    <tr>\n",
       "      <th>0</th>\n",
       "      <td>2020-01-09</td>\n",
       "      <td>byju’s</td>\n",
       "      <td>e-tech</td>\n",
       "      <td>e-learning</td>\n",
       "      <td>bengaluru</td>\n",
       "      <td>Tiger Global Management</td>\n",
       "      <td>privateequityround</td>\n",
       "      <td>200000000</td>\n",
       "      <td>1</td>\n",
       "    </tr>\n",
       "    <tr>\n",
       "      <th>1</th>\n",
       "      <td>2020-01-13</td>\n",
       "      <td>shuttl</td>\n",
       "      <td>transportation</td>\n",
       "      <td>appbasedshuttleservice</td>\n",
       "      <td>gurgaon</td>\n",
       "      <td>Susquehanna Growth Equity</td>\n",
       "      <td>seriesc</td>\n",
       "      <td>8048394</td>\n",
       "      <td>1</td>\n",
       "    </tr>\n",
       "    <tr>\n",
       "      <th>2</th>\n",
       "      <td>2020-01-09</td>\n",
       "      <td>mamaearth</td>\n",
       "      <td>e-commerce</td>\n",
       "      <td>retailerofbabyandtoddlerproducts</td>\n",
       "      <td>bengaluru</td>\n",
       "      <td>Sequoia Capital India</td>\n",
       "      <td>seriesb</td>\n",
       "      <td>18358860</td>\n",
       "      <td>1</td>\n",
       "    </tr>\n",
       "    <tr>\n",
       "      <th>3</th>\n",
       "      <td>2020-01-02</td>\n",
       "      <td>thb</td>\n",
       "      <td>fintech</td>\n",
       "      <td>onlineinvestment</td>\n",
       "      <td>newdelhi</td>\n",
       "      <td>Vinod Khatumal</td>\n",
       "      <td>preseriesa</td>\n",
       "      <td>3000000</td>\n",
       "      <td>1</td>\n",
       "    </tr>\n",
       "    <tr>\n",
       "      <th>4</th>\n",
       "      <td>2020-01-02</td>\n",
       "      <td>fashor</td>\n",
       "      <td>fashionandapparel</td>\n",
       "      <td>embroiledclothesforwomen</td>\n",
       "      <td>mumbai</td>\n",
       "      <td>Sprout Venture Partners</td>\n",
       "      <td>seedround</td>\n",
       "      <td>1800000</td>\n",
       "      <td>1</td>\n",
       "    </tr>\n",
       "  </tbody>\n",
       "</table>\n",
       "</div>"
      ],
      "text/plain": [
       "  Date dd/mm/yyyy Startup Name  ... Amount in USD numberofinvestors\n",
       "0      2020-01-09       byju’s  ...     200000000                 1\n",
       "1      2020-01-13       shuttl  ...       8048394                 1\n",
       "2      2020-01-09    mamaearth  ...      18358860                 1\n",
       "3      2020-01-02          thb  ...       3000000                 1\n",
       "4      2020-01-02       fashor  ...       1800000                 1\n",
       "\n",
       "[5 rows x 9 columns]"
      ]
     },
     "execution_count": 50,
     "metadata": {
      "tags": []
     },
     "output_type": "execute_result"
    }
   ],
   "source": [
    "newdf.head()"
   ]
  },
  {
   "cell_type": "code",
   "execution_count": null,
   "metadata": {
    "id": "Dn8mOeoFJK9u"
   },
   "outputs": [],
   "source": []
  }
 ],
 "metadata": {
  "colab": {
   "name": "Indian_Startup_Funding.ipynb",
   "provenance": []
  },
  "kernelspec": {
   "display_name": "Python 3",
   "language": "python",
   "name": "python3"
  },
  "language_info": {
   "codemirror_mode": {
    "name": "ipython",
    "version": 3
   },
   "file_extension": ".py",
   "mimetype": "text/x-python",
   "name": "python",
   "nbconvert_exporter": "python",
   "pygments_lexer": "ipython3",
   "version": "3.7.7"
  }
 },
 "nbformat": 4,
 "nbformat_minor": 1
}
